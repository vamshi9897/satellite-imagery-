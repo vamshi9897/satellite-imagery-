{
  "cells": [
    {
      "cell_type": "code",
      "execution_count": null,
      "metadata": {
        "id": "38NRRtuBAOEq"
      },
      "outputs": [],
      "source": [
        "import pandas as pd\n",
        "import numpy as np\n",
        "import tensorflow as tf\n",
        "\n",
        "import warnings\n",
        "warnings.filterwarnings('ignore')"
      ]
    },
    {
      "cell_type": "code",
      "execution_count": null,
      "metadata": {
        "id": "8cFiR-VSAe7J"
      },
      "outputs": [],
      "source": [
        "import zipfile\n",
        "zip_ref = zipfile.ZipFile('/content/satellite.zip', 'r')\n",
        "zip_ref.extractall('/content')\n",
        "zip_ref.close()"
      ]
    },
    {
      "cell_type": "code",
      "execution_count": null,
      "metadata": {
        "colab": {
          "base_uri": "https://localhost:8080/"
        },
        "id": "BGw82UlXAYQx",
        "outputId": "505c29dd-b877-4f4e-83ae-3d78e7049802"
      },
      "outputs": [
        {
          "output_type": "stream",
          "name": "stdout",
          "text": [
            "Found 954 images belonging to 2 classes.\n"
          ]
        }
      ],
      "source": [
        "from tensorflow.keras.preprocessing.image import ImageDataGenerator\n",
        "\n",
        "datagen = ImageDataGenerator(rescale=1./255, shear_range=0.2, zoom_range=0.2, horizontal_flip=True)\n",
        "\n",
        "training_set = datagen.flow_from_directory(\n",
        "        \"/content/satellite/train\",\n",
        "        target_size=(64, 64),\n",
        "        batch_size=32,\n",
        "        class_mode=\"binary\"\n",
        "      )"
      ]
    },
    {
      "cell_type": "code",
      "execution_count": null,
      "metadata": {
        "colab": {
          "base_uri": "https://localhost:8080/"
        },
        "id": "ibvod_rcAyTE",
        "outputId": "4228de14-0398-4473-9812-6ea0f9570075"
      },
      "outputs": [
        {
          "output_type": "stream",
          "name": "stdout",
          "text": [
            "Found 721 images belonging to 2 classes.\n"
          ]
        }
      ],
      "source": [
        "datagen1 = ImageDataGenerator(rescale=1./255)\n",
        "\n",
        "test_set = datagen1.flow_from_directory(\n",
        "        \"/content/satellite/test\",\n",
        "        target_size=(64, 64),\n",
        "        batch_size=32,\n",
        "        class_mode=\"binary\"\n",
        "      )"
      ]
    },
    {
      "cell_type": "code",
      "execution_count": null,
      "metadata": {
        "id": "kp-EBn_TA5NH"
      },
      "outputs": [],
      "source": [
        "from tensorflow.keras.layers import Conv2D\n",
        "from tensorflow.keras.layers import Dense"
      ]
    },
    {
      "cell_type": "code",
      "execution_count": null,
      "metadata": {
        "id": "heVwdyZoA9Ce"
      },
      "outputs": [],
      "source": [
        "\n",
        "from tensorflow.keras.regularizers import l2"
      ]
    },
    {
      "cell_type": "code",
      "execution_count": null,
      "metadata": {
        "id": "pUnYjCEkA_uM"
      },
      "outputs": [],
      "source": [
        "cnn = tf.keras.models.Sequential()"
      ]
    },
    {
      "cell_type": "code",
      "execution_count": null,
      "metadata": {
        "id": "ZMioUJ5HBE17"
      },
      "outputs": [],
      "source": [
        "cnn.add(tf.keras.layers.Conv2D(filters=32,padding=\"same\",kernel_size=3, activation='relu', strides=2, input_shape=[64, 64, 3]))"
      ]
    },
    {
      "cell_type": "code",
      "execution_count": null,
      "metadata": {
        "id": "LWgfZG8IBJK2"
      },
      "outputs": [],
      "source": [
        "cnn.add(tf.keras.layers.MaxPool2D(pool_size=2, strides=2))"
      ]
    },
    {
      "cell_type": "code",
      "execution_count": null,
      "metadata": {
        "id": "MR_qD9reBN4F"
      },
      "outputs": [],
      "source": [
        "cnn.add(tf.keras.layers.Conv2D(filters=32,padding='same',kernel_size=3, activation='relu'))\n",
        "cnn.add(tf.keras.layers.MaxPool2D(pool_size=2, strides=2))"
      ]
    },
    {
      "cell_type": "code",
      "execution_count": null,
      "metadata": {
        "id": "AhHk6HRwBPeP"
      },
      "outputs": [],
      "source": [
        "cnn.add(tf.keras.layers.Flatten())"
      ]
    },
    {
      "cell_type": "code",
      "execution_count": null,
      "metadata": {
        "id": "HVSA0icgBUAD"
      },
      "outputs": [],
      "source": [
        "\n",
        "cnn.add(tf.keras.layers.Dense(units=128, activation='relu'))"
      ]
    },
    {
      "cell_type": "code",
      "execution_count": null,
      "metadata": {
        "id": "vDPWcWflBVTf"
      },
      "outputs": [],
      "source": [
        "cnn.add(Dense(1, kernel_regularizer=tf.keras.regularizers.l2(0.01),activation\n",
        "             ='linear'))"
      ]
    },
    {
      "cell_type": "code",
      "execution_count": null,
      "metadata": {
        "colab": {
          "base_uri": "https://localhost:8080/"
        },
        "id": "GkDCuHvGBZr4",
        "outputId": "701532c3-d3ad-4bc9-e66c-616364794b8b"
      },
      "outputs": [
        {
          "output_type": "stream",
          "name": "stdout",
          "text": [
            "Model: \"sequential_1\"\n",
            "_________________________________________________________________\n",
            " Layer (type)                Output Shape              Param #   \n",
            "=================================================================\n",
            " conv2d_2 (Conv2D)           (None, 32, 32, 32)        896       \n",
            "                                                                 \n",
            " max_pooling2d_2 (MaxPooling  (None, 16, 16, 32)       0         \n",
            " 2D)                                                             \n",
            "                                                                 \n",
            " conv2d_3 (Conv2D)           (None, 16, 16, 32)        9248      \n",
            "                                                                 \n",
            " max_pooling2d_3 (MaxPooling  (None, 8, 8, 32)         0         \n",
            " 2D)                                                             \n",
            "                                                                 \n",
            " flatten_1 (Flatten)         (None, 2048)              0         \n",
            "                                                                 \n",
            " dense_2 (Dense)             (None, 128)               262272    \n",
            "                                                                 \n",
            " dense_3 (Dense)             (None, 1)                 129       \n",
            "                                                                 \n",
            "=================================================================\n",
            "Total params: 272,545\n",
            "Trainable params: 272,545\n",
            "Non-trainable params: 0\n",
            "_________________________________________________________________\n"
          ]
        }
      ],
      "source": [
        "cnn.summary()"
      ]
    },
    {
      "cell_type": "code",
      "execution_count": null,
      "metadata": {
        "id": "dD4JyIA0Bc3w"
      },
      "outputs": [],
      "source": [
        "cnn.compile(optimizer = 'adam', loss = 'hinge', metrics = ['accuracy'])"
      ]
    },
    {
      "cell_type": "code",
      "execution_count": null,
      "metadata": {
        "colab": {
          "base_uri": "https://localhost:8080/"
        },
        "id": "1skcaDq3BlI_",
        "outputId": "8523c7f2-c044-4e3b-bf40-63c4b5af2804"
      },
      "outputs": [
        {
          "output_type": "stream",
          "name": "stdout",
          "text": [
            "Epoch 1/15\n",
            "30/30 [==============================] - 2s 64ms/step - loss: 0.9354 - accuracy: 0.5650 - val_loss: 0.9384 - val_accuracy: 0.6533\n",
            "Epoch 2/15\n",
            "30/30 [==============================] - 2s 60ms/step - loss: 0.6674 - accuracy: 0.7432 - val_loss: 0.4645 - val_accuracy: 0.8280\n",
            "Epoch 3/15\n",
            "30/30 [==============================] - 2s 61ms/step - loss: 0.4661 - accuracy: 0.7966 - val_loss: 0.4563 - val_accuracy: 0.8391\n",
            "Epoch 4/15\n",
            "30/30 [==============================] - 2s 64ms/step - loss: 0.3464 - accuracy: 0.8459 - val_loss: 0.3550 - val_accuracy: 0.8433\n",
            "Epoch 5/15\n",
            "30/30 [==============================] - 2s 59ms/step - loss: 0.3692 - accuracy: 0.8333 - val_loss: 0.4231 - val_accuracy: 0.8086\n",
            "Epoch 6/15\n",
            "30/30 [==============================] - 2s 59ms/step - loss: 0.3268 - accuracy: 0.8595 - val_loss: 0.3692 - val_accuracy: 0.8322\n",
            "Epoch 7/15\n",
            "30/30 [==============================] - 2s 60ms/step - loss: 0.2861 - accuracy: 0.8700 - val_loss: 0.3406 - val_accuracy: 0.8669\n",
            "Epoch 8/15\n",
            "30/30 [==============================] - 2s 62ms/step - loss: 0.2696 - accuracy: 0.8795 - val_loss: 0.3043 - val_accuracy: 0.8696\n",
            "Epoch 9/15\n",
            "30/30 [==============================] - 2s 64ms/step - loss: 0.2651 - accuracy: 0.8826 - val_loss: 0.2850 - val_accuracy: 0.8904\n",
            "Epoch 10/15\n",
            "30/30 [==============================] - 4s 119ms/step - loss: 0.2506 - accuracy: 0.8847 - val_loss: 0.4039 - val_accuracy: 0.8488\n",
            "Epoch 11/15\n",
            "30/30 [==============================] - 3s 117ms/step - loss: 0.2513 - accuracy: 0.8910 - val_loss: 0.2490 - val_accuracy: 0.9001\n",
            "Epoch 12/15\n",
            "30/30 [==============================] - 4s 126ms/step - loss: 0.2131 - accuracy: 0.9088 - val_loss: 0.2751 - val_accuracy: 0.8904\n",
            "Epoch 13/15\n",
            "30/30 [==============================] - 2s 58ms/step - loss: 0.2700 - accuracy: 0.8836 - val_loss: 0.2816 - val_accuracy: 0.8793\n",
            "Epoch 14/15\n",
            "30/30 [==============================] - 2s 60ms/step - loss: 0.2212 - accuracy: 0.9004 - val_loss: 0.2586 - val_accuracy: 0.9057\n",
            "Epoch 15/15\n",
            "30/30 [==============================] - 2s 59ms/step - loss: 0.2089 - accuracy: 0.9078 - val_loss: 0.2158 - val_accuracy: 0.9209\n"
          ]
        }
      ],
      "source": [
        "r=cnn.fit(x = training_set, validation_data = test_set, epochs = 15)"
      ]
    },
    {
      "cell_type": "code",
      "execution_count": null,
      "metadata": {
        "colab": {
          "base_uri": "https://localhost:8080/",
          "height": 513
        },
        "id": "oUxpwLtNCVEK",
        "outputId": "f1d0db07-bd74-474e-e339-2d07560c6515"
      },
      "outputs": [
        {
          "output_type": "display_data",
          "data": {
            "text/plain": [
              "<Figure size 432x288 with 1 Axes>"
            ],
            "image/png": "[encoded data removed]"
          },
          "metadata": {
            "needs_background": "light"
          }
        },
        {
          "output_type": "display_data",
          "data": {
            "text/plain": [
              "<Figure size 432x288 with 1 Axes>"
            ],
            "image/png": "[encoded data removed]"
          },
          "metadata": {
            "needs_background": "light"
          }
        }
      ],
      "source": [
        "import matplotlib.pyplot as plt\n",
        "plt.plot(r.history['loss'], label='train loss')\n",
        "plt.plot(r.history['val_loss'], label='val loss')\n",
        "plt.legend()\n",
        "plt.show()\n",
        "\n",
        "# plot the accuracy\n",
        "plt.plot(r.history['accuracy'], label='train acc')\n",
        "plt.plot(r.history['val_accuracy'], label='val acc')\n",
        "plt.legend()\n",
        "plt.show()"
      ]
    },
    {
      "cell_type": "code",
      "execution_count": null,
      "metadata": {
        "colab": {
          "base_uri": "https://localhost:8080/",
          "height": 285
        },
        "id": "kzRUQ8huCabz",
        "outputId": "5aa823e9-eca5-446c-fca3-d502516c8b74"
      },
      "outputs": [
        {
          "output_type": "execute_result",
          "data": {
            "text/plain": [
              "<matplotlib.image.AxesImage at 0x7f9df80bb910>"
            ]
          },
          "metadata": {},
          "execution_count": 34
        },
        {
          "output_type": "display_data",
          "data": {
            "text/plain": [
              "<Figure size 432x288 with 1 Axes>"
            ],
            "image/png": "[encoded data removed]"
          },
          "metadata": {
            "needs_background": "light"
          }
        }
      ],
      "source": [
        "from tensorflow.keras.preprocessing import image\n",
        "import cv2\n",
        "test_image = image.load_img('/content/SeaLake_16.jpg', target_size = (64,64))\n",
        "plt.imshow(test_image)\n"
      ]
    },
    {
      "cell_type": "code",
      "execution_count": null,
      "metadata": {
        "colab": {
          "base_uri": "https://localhost:8080/"
        },
        "id": "mkPdmS2lc71z",
        "outputId": "59e9c4f3-e819-4e74-ed6b-1de0dc0c3828"
      },
      "outputs": [
        {
          "output_type": "stream",
          "name": "stdout",
          "text": [
            "1/1 [==============================] - 0s 103ms/step\n"
          ]
        }
      ],
      "source": [
        "test_image = image.img_to_array(test_image)\n",
        "test_image=test_image/255\n",
        "test_image = np.expand_dims(test_image, axis = 0)\n",
        "result = cnn.predict(test_image)"
      ]
    },
    {
      "cell_type": "code",
      "execution_count": null,
      "metadata": {
        "colab": {
          "base_uri": "https://localhost:8080/"
        },
        "id": "hlloi29-C6yh",
        "outputId": "e958f518-511e-4145-97de-ce8059168144"
      },
      "outputs": [
        {
          "output_type": "stream",
          "name": "stdout",
          "text": [
            "The image classified is sea\n"
          ]
        }
      ],
      "source": [
        "if result[0]<0:\n",
        "    print(\"The image classified is sea\")\n",
        "else:\n",
        "    print(\"The image classified is forest\")"
      ]
    },
    {
      "cell_type": "code",
      "execution_count": null,
      "metadata": {
        "id": "4QOnClUsEgNJ"
      },
      "outputs": [],
      "source": [
        "from sklearn.metrics import confusion_matrix,classification_report\n"
      ]
    },
    {
      "cell_type": "code",
      "execution_count": null,
      "metadata": {
        "colab": {
          "base_uri": "https://localhost:8080/"
        },
        "id": "HPR8NQZXE9XK",
        "outputId": "98644106-a59c-43ff-c5bd-79e213ae1d02"
      },
      "outputs": [
        {
          "output_type": "stream",
          "name": "stdout",
          "text": [
            "Confusion Matrix\n",
            "[[358   0]\n",
            " [363   0]]\n"
          ]
        }
      ],
      "source": [
        "Y_pred = cnn.predict_generator(test_set, 721// 32+1)\n",
        "y_pred = np.argmax(Y_pred, axis=1)\n",
        "print('Confusion Matrix')\n",
        "print(confusion_matrix(test_set.classes, y_pred))\n"
      ]
    },
    {
      "cell_type": "code",
      "execution_count": null,
      "metadata": {
        "colab": {
          "base_uri": "https://localhost:8080/"
        },
        "id": "qhtdbivrFtD1",
        "outputId": "73289803-b691-4eed-fd15-342f9712f7d6"
      },
      "outputs": [
        {
          "output_type": "stream",
          "name": "stdout",
          "text": [
            "Classification Report\n",
            "              precision    recall  f1-score   support\n",
            "\n",
            "         sea       0.50      1.00      0.66       358\n",
            "      forest       0.00      0.00      0.00       363\n",
            "\n",
            "    accuracy                           0.50       721\n",
            "   macro avg       0.25      0.50      0.33       721\n",
            "weighted avg       0.25      0.50      0.33       721\n",
            "\n"
          ]
        }
      ],
      "source": [
        "print('Classification Report')\n",
        "target_names = ['sea', 'forest']\n",
        "print(classification_report(test_set.classes, y_pred, target_names=target_names))"
      ]
    },
    {
      "cell_type": "code",
      "execution_count": null,
      "metadata": {
        "colab": {
          "base_uri": "https://localhost:8080/"
        },
        "id": "ebHParfKG7tB",
        "outputId": "7e36af2d-81a5-4c8e-877f-0adbb2c988b6"
      },
      "outputs": [
        {
          "output_type": "stream",
          "name": "stdout",
          "text": [
            "23/23 [==============================] - 0s 17ms/step - loss: 0.2158 - accuracy: 0.9209\n"
          ]
        }
      ],
      "source": [
        "scores=cnn.evaluate(test_set)"
      ]
    },
    {
      "cell_type": "code",
      "execution_count": null,
      "metadata": {
        "id": "swsz76a3D92N"
      },
      "outputs": [],
      "source": []
    }
  ],
  "metadata": {
    "accelerator": "GPU",
    "colab": {
      "provenance": []
    },
    "gpuClass": "standard",
    "kernelspec": {
      "display_name": "Python 3",
      "name": "python3"
    },
    "language_info": {
      "name": "python"
    }
  },
  "nbformat": 4,
  "nbformat_minor": 0
}